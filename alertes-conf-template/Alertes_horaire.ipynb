{
 "cells": [
  {
   "cell_type": "code",
   "execution_count": null,
   "id": "ea95d7bd-1b4f-4037-893e-1f782d20f19f",
   "metadata": {},
   "outputs": [],
   "source": [
    "!pip install slack_sdk\n",
    "sys.path.append('/python_modules')\n",
    "from commons_alerts import *\n",
    "from icecream import ic\n",
    "import requests\n",
    "init_slack()\n",
    "amplitude_alert = get_alerte_amplitude(logger)\n",
    "AT_alert = get_alerte_AT(logger)"
   ]
  },
  {
   "cell_type": "code",
   "execution_count": null,
   "id": "bdc8fddc-bda2-40bb-9856-325d7ea6e50f",
   "metadata": {},
   "outputs": [],
   "source": [
    "@amplitude_alert(chart_id='xxxrrrt', channel='channel-slack')\n",
    "def alerte(dates, values, array, alert):\n",
    "    \"\"\"Alerte horaire. Vérifie le taux de conversion de X \"\"\"\n",
    "    if values[-2] < 10 :\n",
    "        alert(f'Moins de 10% sur la dernière heure : {round(values[-2],2)}%' )\n",
    "    if values[-2] < 16 and values[-3] < 16:\n",
    "        alert(f'Moins de 16% sur les 2 dernières heures : {round(values[-2],2)}% et {round(values[-3],2)}%')\n",
    "    \n"
   ]
  },
  {
   "cell_type": "code",
   "execution_count": null,
   "id": "2ba80855-fd71-44ab-aadd-aee2e5c2e762",
   "metadata": {},
   "outputs": [],
   "source": [
    "dagstermill.yield_result(\"alertes horaires ok\") # Signale à dagster que tout s'est bien passé\n",
    "\n",
    "requests.get('https://hc-ping.com/26312c5e-xxxxxx') # Optionnel : Signale à healthchecks.io que tout s'est bien passé"
   ]
  }
 ],
 "metadata": {
  "kernelspec": {
   "display_name": "Python 3",
   "language": "python",
   "name": "python3"
  },
  "language_info": {
   "codemirror_mode": {
    "name": "ipython",
    "version": 3
   },
   "file_extension": ".py",
   "mimetype": "text/x-python",
   "name": "python",
   "nbconvert_exporter": "python",
   "pygments_lexer": "ipython3",
   "version": "3.9.2"
  }
 },
 "nbformat": 4,
 "nbformat_minor": 5
}
