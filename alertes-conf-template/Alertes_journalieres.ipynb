{
 "cells": [
  {
   "cell_type": "code",
   "execution_count": null,
   "id": "1eaeaee3-9871-464d-989c-106b713670e7",
   "metadata": {},
   "outputs": [],
   "source": [
    "!pip3 install slack_sdk\n",
    "sys.path.append('/python_modules')\n",
    "from commons_alerts import *\n",
    "from icecream import ic\n",
    "import requests\n",
    "init_slack()\n",
    "amplitude_alert = get_alerte_amplitude(logger)\n",
    "AT_alert = get_alerte_AT(logger)"
   ]
  },
  {
   "cell_type": "markdown",
   "id": "e31da176-8a55-48b1-90b8-e6ceec2ad68f",
   "metadata": {},
   "source": [
    "## Définition des alertes hier"
   ]
  },
  {
   "cell_type": "code",
   "execution_count": null,
   "id": "d9bd66cd-5e4f-47af-a263-f26384a0bb88",
   "metadata": {},
   "outputs": [],
   "source": [
    "\n",
    "@amplitude_alert(chart_id='xxxrrrt', floor=2000, channel=\"nom-du-channel\")\n",
    "def alerte(dates, values, array, alert):\n",
    "    \"\"\"Commentaire sur l'alerte amplitude\"\"\"\n",
    "    return values[-2]\n",
    "\n",
    "\n",
    "@AT_alert(chart_id=\"\"\"https://apirest.atinternet-solutions.com/data/v2/json/getData?......\"\"\",\n",
    "           floor=250, channel='un-autre-channel-public')\n",
    "def alerte(data, alert):\n",
    "    \"\"\"Nombre de ventes hier (AT)\"\"\"\n",
    "    return data[-1][1]"
   ]
  },
  {
   "cell_type": "markdown",
   "id": "f94797b8-a36f-461e-8bbc-d82ef8ef7bcc",
   "metadata": {},
   "source": [
    "## Fin du job"
   ]
  },
  {
   "cell_type": "code",
   "execution_count": null,
   "id": "c9643676-1441-4e8f-93ef-1f70adc7e7dd",
   "metadata": {},
   "outputs": [],
   "source": [
    "\n",
    "dagstermill.yield_result(\"alertes journalières ok\")  # Signale à dagster que tout s'est bien passé\n",
    "\n",
    "requests.get('https://hc-ping.com/3398xxxxxxx') # Optionnel : Signale à healthchecks.io que tout s'est bien passé"
   ]
  }
 ],
 "metadata": {
  "kernelspec": {
   "display_name": "Python 3",
   "language": "python",
   "name": "python3"
  },
  "language_info": {
   "codemirror_mode": {
    "name": "ipython",
    "version": 3
   },
   "file_extension": ".py",
   "mimetype": "text/x-python",
   "name": "python",
   "nbconvert_exporter": "python",
   "pygments_lexer": "ipython3",
   "version": "3.9.2"
  }
 },
 "nbformat": 4,
 "nbformat_minor": 5
}
