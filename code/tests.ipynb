{
 "metadata": {
  "language_info": {
   "codemirror_mode": {
    "name": "ipython",
    "version": 3
   },
   "file_extension": ".py",
   "mimetype": "text/x-python",
   "name": "python",
   "nbconvert_exporter": "python",
   "pygments_lexer": "ipython3",
   "version": "3.9.2"
  },
  "orig_nbformat": 2,
  "kernelspec": {
   "name": "python3",
   "display_name": "Python 3.9.2 64-bit",
   "metadata": {
    "interpreter": {
     "hash": "4cd7ab41f5fca4b9b44701077e38c5ffd31fe66a6cab21e0214b68d958d0e462"
    }
   }
  }
 },
 "nbformat": 4,
 "nbformat_minor": 2,
 "cells": [
  {
   "cell_type": "code",
   "execution_count": 1,
   "metadata": {},
   "outputs": [],
   "source": [
    "import importlib\n",
    "import connectors as con\n",
    "#from connectors import amplitude_to_array, AT_to_array, init_google_sheets, send_google_sheet, clear_google_sheet, getCell, _getSpreadsheet, init_slack, send_slack\n",
    "importlib.reload(con)\n",
    "from functools import reduce\n",
    "\n",
    "#heuuu-compte-de-service@digital-splicer-268609.iam.gserviceaccount.com\n",
    "\n",
    "#_getSpreadsheet('Imports user stream')\n",
    "#send_google_sheet('Imports user stream','Feuille 2', 'H2', [[1,2,3]])\n",
    "#getCell('Imports user stream','Feuille 2', 'H2')"
   ]
  },
  {
   "cell_type": "code",
   "execution_count": 3,
   "metadata": {},
   "outputs": [],
   "source": [
    "amplitude_funnel = con.amplitude_to_array(\"0z3prby\")\n",
    "amplitude_event_seg = con.amplitude_to_array(\"0ikomzq\") \n",
    "amplitude_formula = con.amplitude_to_array(\"7v1kn32\") \n",
    "AT1 = con.AT_to_array(\"\"\"https://apirest.atinternet-solutions.com/data/v2/json/getData?&columns={d_time_date,m_conversions1_visits}&sort={d_time_date}&filter={$OR:{d_page:{$start:'2_con'},d_page:{$end:'on_swg'}}}&space={s:448108}&period={R:{D:{start:'-5',end:'-1'}}}&max-results=50&page-num=1\"\"\")"
   ]
  },
  {
   "cell_type": "code",
   "execution_count": 8,
   "metadata": {},
   "outputs": [
    {
     "output_type": "stream",
     "name": "stdout",
     "text": [
      "----------- 1, 4, 30\nschedule 1\nCheck schedule : today: 30, schedule : 1\nFalse\nschedule 4\nCheck schedule : today: 30, schedule : 4\nFalse\nschedule 30\nCheck schedule : today: 30, schedule : 30\nTrue\n=> True\nNone\n----------- 1, 4, 29\nschedule 1\nCheck schedule : today: 30, schedule : 1\nFalse\nschedule 4\nCheck schedule : today: 30, schedule : 4\nFalse\nschedule 29\nCheck schedule : today: 30, schedule : 29\nFalse\n=> False\nNone\n----------- 1, 4, tuesday\nschedule 1\nCheck schedule : today: 30, schedule : 1\nFalse\nschedule 4\nCheck schedule : today: 30, schedule : 4\nFalse\nschedule tuesday\ntuesday tuesday\nTrue\n=> True\nNone\n"
     ]
    }
   ],
   "source": [
    "from datetime import date\n",
    "import datetime as dt\n",
    "import calendar\n",
    "from functools import reduce\n",
    "\n",
    "def check_schedule(schedule):\n",
    "    \"\"\"Analyse the schedule input and return True if the job has to be executed today\"\"\"\n",
    "    def check_one_schedule(schedule):\n",
    "        if schedule.lower() == 'everyday':\n",
    "            return True\n",
    "        if schedule.isdigit():\n",
    "            day_of_month = dt.datetime.today().day\n",
    "            return int(schedule) == day_of_month\n",
    "        if (calendar.day_name[date.today().weekday()]).lower() == schedule.lower():\n",
    "            return True\n",
    "        return False \n",
    "    schedules = list(map(lambda x: x.strip(), schedule.split(',')))\n",
    "    result = reduce(lambda accu, cur: accu | check_one_schedule(cur), schedules, False )\n",
    "    return result\n",
    "    \n",
    "\n",
    "    \n",
    "  \n",
    "    \n",
    "print(check_schedule('1, 4, 30'))\n",
    "print(check_schedule('1, 4, 29'))\n",
    "print(check_schedule('1, 4, tuesday'))"
   ]
  },
  {
   "cell_type": "code",
   "execution_count": null,
   "metadata": {},
   "outputs": [],
   "source": []
  },
  {
   "cell_type": "code",
   "execution_count": 38,
   "metadata": {
    "tags": []
   },
   "outputs": [
    {
     "output_type": "stream",
     "name": "stdout",
     "text": [
      "hellooo\n",
      "************ cat\n",
      "----  nb_conversions\n",
      "{'amplitude_chart_id': '0ikomzq', 'schedule_day': 'everyday', 'export_google_sheets': 'Imports user stream:Tunnel:A1', 'alert_if': 'yesterday < 150', 'alert_slack_channel': 'insights-alertes'}\n",
      "amplitude\n",
      "data :  [['2021-03-20T00:00:00', 274], ['2021-03-21T00:00:00', 357], ['2021-03-22T00:00:00', 402], ['2021-03-23T00:00:00', 434], ['2021-03-24T00:00:00', 386], ['2021-03-25T00:00:00', 323], ['2021-03-26T00:00:00', 315], ['2021-03-27T00:00:00', 315], ['2021-03-28T00:00:00', 359], ['2021-03-29T00:00:00', 407], ['2021-03-30T00:00:00', 88]]\n",
      "data exportées dans : Imports user stream Tunnel A1\n",
      "gestion des alertes\n",
      "pas d'alerte : yesterday < 150 (actual : 407)\n",
      "----  taux_erreur_paiement\n",
      "{'amplitude_chart_id': '7v1kn32', 'schedule_day': 'everyday', 'export_google_sheets': 'Imports user stream:Tunnel:H2', 'alert_if': 'yesterday > 13%', 'alert_text': \"Trop d'erreurs de paiement CB\", 'alert_slack_channel': 'insights-alertes'}\n",
      "amplitude\n",
      "data :  [['2020-12-30T00:00:00', 15.277777777777779], ['2020-12-31T00:00:00', 9.929078014184396], ['2021-01-01T00:00:00', 11.742424242424242], ['2021-01-02T00:00:00', 8.357348703170029], ['2021-01-03T00:00:00', 10.796915167095115], ['2021-01-04T00:00:00', 10.611510791366907], ['2021-01-05T00:00:00', 11.224489795918368], ['2021-01-06T00:00:00', 21.62162162162162], ['2021-01-07T00:00:00', 21.904761904761905], ['2021-01-08T00:00:00', 21.038961038961038], ['2021-01-09T00:00:00', 20.59620596205962], ['2021-01-10T00:00:00', 18.736383442265794], ['2021-01-11T00:00:00', 23.26732673267327], ['2021-01-12T00:00:00', 20.080321285140563], ['2021-01-13T00:00:00', 25.555555555555557], ['2021-01-14T00:00:00', 22.505307855626327], ['2021-01-15T00:00:00', 26.50602409638554], ['2021-01-16T00:00:00', 26.975476839237057], ['2021-01-17T00:00:00', 27.272727272727273], ['2021-01-18T00:00:00', 21.690140845070424], ['2021-01-19T00:00:00', 22.595078299776286], ['2021-01-20T00:00:00', 24.63768115942029], ['2021-01-21T00:00:00', 21.19402985074627], ['2021-01-22T00:00:00', 23.487544483985765], ['2021-01-23T00:00:00', 25.308641975308642], ['2021-01-24T00:00:00', 30.182926829268293], ['2021-01-25T00:00:00', 26.08695652173913], ['2021-01-26T00:00:00', 22.033898305084747], ['2021-01-27T00:00:00', 21.866666666666667], ['2021-01-28T00:00:00', 21.828908554572273], ['2021-01-29T00:00:00', 18.088737201365188], ['2021-01-30T00:00:00', 25.28735632183908], ['2021-01-31T00:00:00', 22.96511627906977], ['2021-02-01T00:00:00', 26.287262872628727], ['2021-02-02T00:00:00', 17.733990147783253], ['2021-02-03T00:00:00', 23.56687898089172], ['2021-02-04T00:00:00', 26.08695652173913], ['2021-02-05T00:00:00', 24.76780185758514], ['2021-02-06T00:00:00', 28.076923076923077], ['2021-02-07T00:00:00', 22.62295081967213], ['2021-02-08T00:00:00', 19.315403422982886], ['2021-02-09T00:00:00', 16.375545851528383], ['2021-02-10T00:00:00', 13.623978201634877], ['2021-02-11T00:00:00', 9.608540925266905], ['2021-02-12T00:00:00', 13.127413127413128], ['2021-02-13T00:00:00', 10.548523206751055], ['2021-02-14T00:00:00', 17.15686274509804], ['2021-02-15T00:00:00', 16.901408450704224], ['2021-02-16T00:00:00', 10.385756676557863], ['2021-02-17T00:00:00', 14.338235294117647], ['2021-02-18T00:00:00', 10.622710622710622], ['2021-02-19T00:00:00', 13.72549019607843], ['2021-02-20T00:00:00', 13.170731707317072], ['2021-02-21T00:00:00', 8.536585365853659], ['2021-02-22T00:00:00', 13.268608414239482], ['2021-02-23T00:00:00', 10.185185185185185], ['2021-02-24T00:00:00', 13.425925925925926], ['2021-02-25T00:00:00', 16.923076923076923], ['2021-02-26T00:00:00', 10.0], ['2021-02-27T00:00:00', 12.5], ['2021-02-28T00:00:00', 13.973799126637555], ['2021-03-01T00:00:00', 11.290322580645162], ['2021-03-02T00:00:00', 13.08411214953271], ['2021-03-03T00:00:00', 12.5], ['2021-03-04T00:00:00', 13.6], ['2021-03-05T00:00:00', 12.167300380228136], ['2021-03-06T00:00:00', 11.811023622047244], ['2021-03-07T00:00:00', 13.261648745519713], ['2021-03-08T00:00:00', 12.121212121212121], ['2021-03-09T00:00:00', 13.008130081300813], ['2021-03-10T00:00:00', 13.588850174216027], ['2021-03-11T00:00:00', 15.129151291512915], ['2021-03-12T00:00:00', 14.345991561181435], ['2021-03-13T00:00:00', 15.422885572139304], ['2021-03-14T00:00:00', 13.698630136986301], ['2021-03-15T00:00:00', 10.96345514950166], ['2021-03-16T00:00:00', 15.068493150684931], ['2021-03-17T00:00:00', 13.14102564102564], ['2021-03-18T00:00:00', 14.830508474576272], ['2021-03-19T00:00:00', 12.88888888888889], ['2021-03-20T00:00:00', 14.285714285714286], ['2021-03-21T00:00:00', 12.549019607843137], ['2021-03-22T00:00:00', 11.971830985915492], ['2021-03-23T00:00:00', 11.661807580174926], ['2021-03-24T00:00:00', 13.618677042801556], ['2021-03-25T00:00:00', 13.425925925925926], ['2021-03-26T00:00:00', 15.929203539823009], ['2021-03-27T00:00:00', 17.372881355932204], ['2021-03-28T00:00:00', 13.46938775510204], ['2021-03-29T00:00:00', 14.925373134328359], ['2021-03-30T00:00:00', 15.384615384615385]]\n",
      "data exportées dans : Imports user stream Tunnel H2\n",
      "gestion des alertes\n",
      "alert slack déclenchéeAlert taux_erreur_paiement : Trop d'erreurs de paiement CB   - . yesterday > 13 (actual : 14.925373134328359)\n"
     ]
    }
   ],
   "source": [
    "import toml\n",
    "import interpret\n",
    "importlib.reload(interpret)\n",
    "\n",
    "con.init_slack()\n",
    "con.init_google_sheets('./credentials/google_sheets')\n",
    "class Log:\n",
    "    info = print\n",
    "    warning = print\n",
    "log = Log()\n",
    "log.info('hellooo')\n",
    "\n",
    "#conf = toml.loads(open('/confs/audience.toml','r').read())\n",
    "conf = toml.loads(open('/confs/abo.toml','r').read())\n",
    "for s_cat in conf:\n",
    "    print(\"************ cat\")\n",
    "    cat = conf[s_cat]\n",
    "    for s_kpi in conf[s_cat]:\n",
    "        print(\"---- \", s_kpi)\n",
    "        kpi = cat[s_kpi]\n",
    "        print(kpi)\n",
    "        interpret.interpret_job(log, kpi, s_kpi)\n",
    "\n"
   ]
  },
  {
   "cell_type": "code",
   "execution_count": 36,
   "metadata": {},
   "outputs": [
    {
     "output_type": "stream",
     "name": "stdout",
     "text": [
      "404\n"
     ]
    },
    {
     "output_type": "error",
     "ename": "JSONDecodeError",
     "evalue": "Expecting value: line 1 column 1 (char 0)",
     "traceback": [
      "\u001b[0;31m---------------------------------------------------------------------------\u001b[0m",
      "\u001b[0;31mJSONDecodeError\u001b[0m                           Traceback (most recent call last)",
      "\u001b[0;32m<ipython-input-36-4054afbf0f52>\u001b[0m in \u001b[0;36m<module>\u001b[0;34m\u001b[0m\n\u001b[1;32m      6\u001b[0m \u001b[0mr\u001b[0m \u001b[0;34m=\u001b[0m \u001b[0mrequests\u001b[0m\u001b[0;34m.\u001b[0m\u001b[0mget\u001b[0m\u001b[0;34m(\u001b[0m\u001b[0murl\u001b[0m\u001b[0;34m,\u001b[0m \u001b[0mheaders\u001b[0m\u001b[0;34m=\u001b[0m\u001b[0mheaders_amplitude\u001b[0m\u001b[0;34m)\u001b[0m\u001b[0;34m\u001b[0m\u001b[0;34m\u001b[0m\u001b[0m\n\u001b[1;32m      7\u001b[0m \u001b[0mprint\u001b[0m\u001b[0;34m(\u001b[0m\u001b[0mr\u001b[0m\u001b[0;34m.\u001b[0m\u001b[0mstatus_code\u001b[0m\u001b[0;34m)\u001b[0m\u001b[0;34m\u001b[0m\u001b[0;34m\u001b[0m\u001b[0m\n\u001b[0;32m----> 8\u001b[0;31m \u001b[0mcon\u001b[0m\u001b[0;34m.\u001b[0m\u001b[0mamplitude_to_array\u001b[0m\u001b[0;34m(\u001b[0m\u001b[0;34m\"dsfdsfdsfsdf\"\u001b[0m\u001b[0;34m)\u001b[0m\u001b[0;34m\u001b[0m\u001b[0;34m\u001b[0m\u001b[0m\n\u001b[0m",
      "\u001b[0;32m/opt/dagster/app/connectors.py\u001b[0m in \u001b[0;36mamplitude_to_array\u001b[0;34m(amplitude_chart_id)\u001b[0m\n\u001b[1;32m    118\u001b[0m     \u001b[0murl\u001b[0m \u001b[0;34m=\u001b[0m \u001b[0;34m\"https://amplitude.com/api/3/chart/\"\u001b[0m \u001b[0;34m+\u001b[0m \u001b[0mamplitude_chart_id\u001b[0m \u001b[0;34m+\u001b[0m \u001b[0;34m\"/query\"\u001b[0m\u001b[0;34m\u001b[0m\u001b[0;34m\u001b[0m\u001b[0m\n\u001b[1;32m    119\u001b[0m     \u001b[0mr\u001b[0m \u001b[0;34m=\u001b[0m \u001b[0mrequests\u001b[0m\u001b[0;34m.\u001b[0m\u001b[0mget\u001b[0m\u001b[0;34m(\u001b[0m\u001b[0murl\u001b[0m\u001b[0;34m,\u001b[0m \u001b[0mheaders\u001b[0m\u001b[0;34m=\u001b[0m\u001b[0mheaders_amplitude\u001b[0m\u001b[0;34m)\u001b[0m\u001b[0;34m\u001b[0m\u001b[0;34m\u001b[0m\u001b[0m\n\u001b[0;32m--> 120\u001b[0;31m     \u001b[0mjson\u001b[0m \u001b[0;34m=\u001b[0m \u001b[0mr\u001b[0m\u001b[0;34m.\u001b[0m\u001b[0mjson\u001b[0m\u001b[0;34m(\u001b[0m\u001b[0;34m)\u001b[0m\u001b[0;34m\u001b[0m\u001b[0;34m\u001b[0m\u001b[0m\n\u001b[0m\u001b[1;32m    121\u001b[0m     \u001b[0;31m#cas funnel\u001b[0m\u001b[0;34m\u001b[0m\u001b[0;34m\u001b[0m\u001b[0;34m\u001b[0m\u001b[0m\n\u001b[1;32m    122\u001b[0m     \u001b[0;32mif\u001b[0m \u001b[0mjmespath\u001b[0m\u001b[0;34m.\u001b[0m\u001b[0msearch\u001b[0m\u001b[0;34m(\u001b[0m\u001b[0;34m'data[0].dayFunnels.xValues'\u001b[0m\u001b[0;34m,\u001b[0m \u001b[0mjson\u001b[0m\u001b[0;34m)\u001b[0m\u001b[0;34m:\u001b[0m\u001b[0;34m\u001b[0m\u001b[0;34m\u001b[0m\u001b[0m\n",
      "\u001b[0;32m/usr/local/lib/python3.9/site-packages/requests/models.py\u001b[0m in \u001b[0;36mjson\u001b[0;34m(self, **kwargs)\u001b[0m\n\u001b[1;32m    898\u001b[0m                     \u001b[0;31m# used.\u001b[0m\u001b[0;34m\u001b[0m\u001b[0;34m\u001b[0m\u001b[0;34m\u001b[0m\u001b[0m\n\u001b[1;32m    899\u001b[0m                     \u001b[0;32mpass\u001b[0m\u001b[0;34m\u001b[0m\u001b[0;34m\u001b[0m\u001b[0m\n\u001b[0;32m--> 900\u001b[0;31m         \u001b[0;32mreturn\u001b[0m \u001b[0mcomplexjson\u001b[0m\u001b[0;34m.\u001b[0m\u001b[0mloads\u001b[0m\u001b[0;34m(\u001b[0m\u001b[0mself\u001b[0m\u001b[0;34m.\u001b[0m\u001b[0mtext\u001b[0m\u001b[0;34m,\u001b[0m \u001b[0;34m**\u001b[0m\u001b[0mkwargs\u001b[0m\u001b[0;34m)\u001b[0m\u001b[0;34m\u001b[0m\u001b[0;34m\u001b[0m\u001b[0m\n\u001b[0m\u001b[1;32m    901\u001b[0m \u001b[0;34m\u001b[0m\u001b[0m\n\u001b[1;32m    902\u001b[0m     \u001b[0;34m@\u001b[0m\u001b[0mproperty\u001b[0m\u001b[0;34m\u001b[0m\u001b[0;34m\u001b[0m\u001b[0m\n",
      "\u001b[0;32m/usr/local/lib/python3.9/json/__init__.py\u001b[0m in \u001b[0;36mloads\u001b[0;34m(s, cls, object_hook, parse_float, parse_int, parse_constant, object_pairs_hook, **kw)\u001b[0m\n\u001b[1;32m    344\u001b[0m             \u001b[0mparse_int\u001b[0m \u001b[0;32mis\u001b[0m \u001b[0;32mNone\u001b[0m \u001b[0;32mand\u001b[0m \u001b[0mparse_float\u001b[0m \u001b[0;32mis\u001b[0m \u001b[0;32mNone\u001b[0m \u001b[0;32mand\u001b[0m\u001b[0;34m\u001b[0m\u001b[0;34m\u001b[0m\u001b[0m\n\u001b[1;32m    345\u001b[0m             parse_constant is None and object_pairs_hook is None and not kw):\n\u001b[0;32m--> 346\u001b[0;31m         \u001b[0;32mreturn\u001b[0m \u001b[0m_default_decoder\u001b[0m\u001b[0;34m.\u001b[0m\u001b[0mdecode\u001b[0m\u001b[0;34m(\u001b[0m\u001b[0ms\u001b[0m\u001b[0;34m)\u001b[0m\u001b[0;34m\u001b[0m\u001b[0;34m\u001b[0m\u001b[0m\n\u001b[0m\u001b[1;32m    347\u001b[0m     \u001b[0;32mif\u001b[0m \u001b[0mcls\u001b[0m \u001b[0;32mis\u001b[0m \u001b[0;32mNone\u001b[0m\u001b[0;34m:\u001b[0m\u001b[0;34m\u001b[0m\u001b[0;34m\u001b[0m\u001b[0m\n\u001b[1;32m    348\u001b[0m         \u001b[0mcls\u001b[0m \u001b[0;34m=\u001b[0m \u001b[0mJSONDecoder\u001b[0m\u001b[0;34m\u001b[0m\u001b[0;34m\u001b[0m\u001b[0m\n",
      "\u001b[0;32m/usr/local/lib/python3.9/json/decoder.py\u001b[0m in \u001b[0;36mdecode\u001b[0;34m(self, s, _w)\u001b[0m\n\u001b[1;32m    335\u001b[0m \u001b[0;34m\u001b[0m\u001b[0m\n\u001b[1;32m    336\u001b[0m         \"\"\"\n\u001b[0;32m--> 337\u001b[0;31m         \u001b[0mobj\u001b[0m\u001b[0;34m,\u001b[0m \u001b[0mend\u001b[0m \u001b[0;34m=\u001b[0m \u001b[0mself\u001b[0m\u001b[0;34m.\u001b[0m\u001b[0mraw_decode\u001b[0m\u001b[0;34m(\u001b[0m\u001b[0ms\u001b[0m\u001b[0;34m,\u001b[0m \u001b[0midx\u001b[0m\u001b[0;34m=\u001b[0m\u001b[0m_w\u001b[0m\u001b[0;34m(\u001b[0m\u001b[0ms\u001b[0m\u001b[0;34m,\u001b[0m \u001b[0;36m0\u001b[0m\u001b[0;34m)\u001b[0m\u001b[0;34m.\u001b[0m\u001b[0mend\u001b[0m\u001b[0;34m(\u001b[0m\u001b[0;34m)\u001b[0m\u001b[0;34m)\u001b[0m\u001b[0;34m\u001b[0m\u001b[0;34m\u001b[0m\u001b[0m\n\u001b[0m\u001b[1;32m    338\u001b[0m         \u001b[0mend\u001b[0m \u001b[0;34m=\u001b[0m \u001b[0m_w\u001b[0m\u001b[0;34m(\u001b[0m\u001b[0ms\u001b[0m\u001b[0;34m,\u001b[0m \u001b[0mend\u001b[0m\u001b[0;34m)\u001b[0m\u001b[0;34m.\u001b[0m\u001b[0mend\u001b[0m\u001b[0;34m(\u001b[0m\u001b[0;34m)\u001b[0m\u001b[0;34m\u001b[0m\u001b[0;34m\u001b[0m\u001b[0m\n\u001b[1;32m    339\u001b[0m         \u001b[0;32mif\u001b[0m \u001b[0mend\u001b[0m \u001b[0;34m!=\u001b[0m \u001b[0mlen\u001b[0m\u001b[0;34m(\u001b[0m\u001b[0ms\u001b[0m\u001b[0;34m)\u001b[0m\u001b[0;34m:\u001b[0m\u001b[0;34m\u001b[0m\u001b[0;34m\u001b[0m\u001b[0m\n",
      "\u001b[0;32m/usr/local/lib/python3.9/json/decoder.py\u001b[0m in \u001b[0;36mraw_decode\u001b[0;34m(self, s, idx)\u001b[0m\n\u001b[1;32m    353\u001b[0m             \u001b[0mobj\u001b[0m\u001b[0;34m,\u001b[0m \u001b[0mend\u001b[0m \u001b[0;34m=\u001b[0m \u001b[0mself\u001b[0m\u001b[0;34m.\u001b[0m\u001b[0mscan_once\u001b[0m\u001b[0;34m(\u001b[0m\u001b[0ms\u001b[0m\u001b[0;34m,\u001b[0m \u001b[0midx\u001b[0m\u001b[0;34m)\u001b[0m\u001b[0;34m\u001b[0m\u001b[0;34m\u001b[0m\u001b[0m\n\u001b[1;32m    354\u001b[0m         \u001b[0;32mexcept\u001b[0m \u001b[0mStopIteration\u001b[0m \u001b[0;32mas\u001b[0m \u001b[0merr\u001b[0m\u001b[0;34m:\u001b[0m\u001b[0;34m\u001b[0m\u001b[0;34m\u001b[0m\u001b[0m\n\u001b[0;32m--> 355\u001b[0;31m             \u001b[0;32mraise\u001b[0m \u001b[0mJSONDecodeError\u001b[0m\u001b[0;34m(\u001b[0m\u001b[0;34m\"Expecting value\"\u001b[0m\u001b[0;34m,\u001b[0m \u001b[0ms\u001b[0m\u001b[0;34m,\u001b[0m \u001b[0merr\u001b[0m\u001b[0;34m.\u001b[0m\u001b[0mvalue\u001b[0m\u001b[0;34m)\u001b[0m \u001b[0;32mfrom\u001b[0m \u001b[0;32mNone\u001b[0m\u001b[0;34m\u001b[0m\u001b[0;34m\u001b[0m\u001b[0m\n\u001b[0m\u001b[1;32m    356\u001b[0m         \u001b[0;32mreturn\u001b[0m \u001b[0mobj\u001b[0m\u001b[0;34m,\u001b[0m \u001b[0mend\u001b[0m\u001b[0;34m\u001b[0m\u001b[0;34m\u001b[0m\u001b[0m\n",
      "\u001b[0;31mJSONDecodeError\u001b[0m: Expecting value: line 1 column 1 (char 0)"
     ]
    }
   ],
   "source": [
    "import requests, base64\n",
    "userpass = open('./credentials/amplitude','r').read()\n",
    "encoded_u = base64.b64encode(userpass.encode()).decode()\n",
    "headers_amplitude = {\"Authorization\" : \"Basic %s\" % encoded_u}\n",
    "url = \"https://amplitude.com/api/3/chart/\" + \"dsfsdfsf\" + \"/query\"\n",
    "r = requests.get(url, headers=headers_amplitude)\n",
    "print(r.status_code)\n",
    "con.amplitude_to_array(\"dsfdsfdsfsdf\")"
   ]
  },
  {
   "cell_type": "code",
   "execution_count": 6,
   "metadata": {},
   "outputs": [
    {
     "output_type": "stream",
     "name": "stdout",
     "text": [
      "4.3\n"
     ]
    }
   ],
   "source": [
    "limit = '4,3%'\n",
    "if type(limit) == str :\n",
    "    limit = float(limit.replace(',','.').replace('%',''))\n",
    "print (limit)"
   ]
  },
  {
   "cell_type": "code",
   "execution_count": null,
   "metadata": {},
   "outputs": [],
   "source": []
  }
 ]
}